{
 "cells": [
  {
   "cell_type": "code",
   "execution_count": null,
   "id": "5ae3097f",
   "metadata": {},
   "outputs": [],
   "source": [
    "my_var = 10\n",
    "\n",
    "print(my_var)\n",
    "print(type(my_var))"
   ]
  },
  {
   "cell_type": "code",
   "execution_count": null,
   "id": "c893d50d",
   "metadata": {},
   "outputs": [],
   "source": [
    "print(\"Hello, World!\")"
   ]
  },
  {
   "cell_type": "code",
   "execution_count": 11,
   "id": "36a51092",
   "metadata": {},
   "outputs": [
    {
     "name": "stdout",
     "output_type": "stream",
     "text": [
      "10.0\n",
      "<class 'float'>\n"
     ]
    }
   ],
   "source": [
    "a = 10\n",
    "b = float(a)\n",
    "print(b)\n",
    "print(type(b))"
   ]
  },
  {
   "cell_type": "code",
   "execution_count": 13,
   "id": "b41ce630",
   "metadata": {},
   "outputs": [
    {
     "name": "stdout",
     "output_type": "stream",
     "text": [
      "7\n"
     ]
    }
   ],
   "source": [
    "c = 7.3\n",
    "b = int (c)\n",
    "print(b)"
   ]
  },
  {
   "cell_type": "code",
   "execution_count": 22,
   "id": "63b88efd",
   "metadata": {},
   "outputs": [
    {
     "name": "stdout",
     "output_type": "stream",
     "text": [
      "[1, 2, 3, 4, 5]\n",
      "[3] 4\n",
      "<class 'list'>\n"
     ]
    }
   ],
   "source": [
    "my_list = [1, 2, 3, 4, 5]\n",
    "print(my_list)\n",
    "print(my_list[2 : 3] , my_list[3])\n",
    "print(type(my_list))"
   ]
  },
  {
   "cell_type": "code",
   "execution_count": 16,
   "id": "41dbcaa1",
   "metadata": {},
   "outputs": [
    {
     "name": "stdout",
     "output_type": "stream",
     "text": [
      "140713693967560\n",
      "140713693967560\n"
     ]
    }
   ],
   "source": [
    "x = 10\n",
    "print(id(x))\n",
    "\n",
    "y = 10 \n",
    "print(id(y))"
   ]
  },
  {
   "cell_type": "code",
   "execution_count": 17,
   "id": "57c7f6b3",
   "metadata": {},
   "outputs": [
    {
     "name": "stdout",
     "output_type": "stream",
     "text": [
      "[1, 2, 3, 4, 5]\n",
      "2003475616512\n"
     ]
    }
   ],
   "source": [
    "my_list = [1, 2, 3, 4, 5]\n",
    "print(my_list)\n",
    "print(id(my_list))"
   ]
  },
  {
   "cell_type": "code",
   "execution_count": 18,
   "id": "ba8cf2c7",
   "metadata": {},
   "outputs": [
    {
     "name": "stdout",
     "output_type": "stream",
     "text": [
      "[1, 'hello world', 3.5, True]\n",
      "<class 'list'>\n"
     ]
    }
   ],
   "source": [
    "my_list = [1 , \"hello world\", 3.5 , True]\n",
    "print(my_list)\n",
    "print(type(my_list))"
   ]
  },
  {
   "cell_type": "code",
   "execution_count": null,
   "id": "49f972d6",
   "metadata": {},
   "outputs": [],
   "source": [
    "my_num = 4.958e9\n",
    "print(my_num)\n",
    "print(type(my_num))"
   ]
  },
  {
   "cell_type": "code",
   "execution_count": null,
   "id": "54ee477f",
   "metadata": {},
   "outputs": [],
   "source": [
    "my_var1 = 10\n",
    "my_var2 = 20.5\n",
    "my_var3 = \"Hello\"\n",
    "\n",
    "my_var4 = my_var1 + my_var2 + len(my_var3)\n",
    "\n",
    "print(my_var4)"
   ]
  },
  {
   "cell_type": "code",
   "execution_count": null,
   "id": "3736b3a5",
   "metadata": {},
   "outputs": [],
   "source": [
    "my_var = 10 + 3j\n",
    "print(my_var)\n",
    "print(type(my_var))"
   ]
  },
  {
   "cell_type": "code",
   "execution_count": 23,
   "id": "949f4efd",
   "metadata": {},
   "outputs": [
    {
     "name": "stdout",
     "output_type": "stream",
     "text": [
      "[3, 4, 5]\n",
      "[3, 4, 5]\n",
      "[1, 2, 3, 4, 5]\n"
     ]
    }
   ],
   "source": [
    "my_list = [1, 2, 3, 4, 5]\n",
    "print(my_list[2:5])\n",
    "print(my_list[2:])\n",
    "print(my_list[:5])"
   ]
  },
  {
   "cell_type": "code",
   "execution_count": 24,
   "id": "9e931751",
   "metadata": {},
   "outputs": [
    {
     "name": "stdout",
     "output_type": "stream",
     "text": [
      "9\n"
     ]
    }
   ],
   "source": [
    "my_list = [10, 8, 9, 15, 18, 26]\n",
    "print(my_list[-4])"
   ]
  },
  {
   "cell_type": "code",
   "execution_count": 25,
   "id": "ad679c88",
   "metadata": {},
   "outputs": [
    {
     "name": "stdout",
     "output_type": "stream",
     "text": [
      "[10, 8, 9, 15, 18, 26]\n",
      "[10, 8, 90, 60, 80, 26]\n"
     ]
    }
   ],
   "source": [
    "my_list = [10, 8, 9, 15, 18, 26]\n",
    "print(my_list)\n",
    "\n",
    "my_list[2:5] = [90, 60, 80]\n",
    "print(my_list)\n"
   ]
  },
  {
   "cell_type": "code",
   "execution_count": 26,
   "id": "07143b33",
   "metadata": {},
   "outputs": [
    {
     "name": "stdout",
     "output_type": "stream",
     "text": [
      "[10, 8, 9, 15, 18, 26]\n",
      "[10, 8, 65, 9, 15, 18, 26]\n"
     ]
    }
   ],
   "source": [
    "my_list = [10, 8, 9, 15, 18, 26]\n",
    "print(my_list)\n",
    "\n",
    "my_list.insert(2, 65)\n",
    "print(my_list)"
   ]
  },
  {
   "cell_type": "code",
   "execution_count": 27,
   "id": "1e02bc7e",
   "metadata": {},
   "outputs": [
    {
     "name": "stdout",
     "output_type": "stream",
     "text": [
      "[10, 8, 9, 15, 18, 26]\n",
      "[10, 8, 9, 15, 18, 26, 44]\n"
     ]
    }
   ],
   "source": [
    "my_list = [10, 8, 9, 15, 18, 26]\n",
    "print(my_list)\n",
    "\n",
    "my_list.append(44)\n",
    "print(my_list)"
   ]
  },
  {
   "cell_type": "code",
   "execution_count": 28,
   "id": "f6928aa7",
   "metadata": {},
   "outputs": [
    {
     "name": "stdout",
     "output_type": "stream",
     "text": [
      "['Cat', 'Dog', 'Rabbit']\n",
      "['Cat', 'Rabbit']\n"
     ]
    }
   ],
   "source": [
    "my_list = [\"Cat\", \"Dog\", \"Rabbit\"]\n",
    "print(my_list)\n",
    "\n",
    "my_list.remove(\"Dog\")\n",
    "print(my_list)"
   ]
  },
  {
   "cell_type": "code",
   "execution_count": 30,
   "id": "0e69f334",
   "metadata": {},
   "outputs": [
    {
     "name": "stdout",
     "output_type": "stream",
     "text": [
      "['Cat', 'Dog', 'Rabbit', 'Dog']\n",
      "['Cat', 'Rabbit', 'Dog']\n"
     ]
    }
   ],
   "source": [
    "my_list = [\"Cat\", \"Dog\", \"Rabbit\", \"Dog\"]\n",
    "print(my_list)\n",
    "\n",
    "my_list.remove(\"Dog\")\n",
    "print(my_list)"
   ]
  },
  {
   "cell_type": "code",
   "execution_count": 31,
   "id": "82a638b1",
   "metadata": {},
   "outputs": [
    {
     "name": "stdout",
     "output_type": "stream",
     "text": [
      "Dog\n",
      "['Cat', 'Rabbit']\n"
     ]
    }
   ],
   "source": [
    "my_list = [\"Cat\", \"Dog\", \"Rabbit\"]\n",
    "my_var = my_list.pop(1)\n",
    "\n",
    "print(my_var)\n",
    "print(my_list)"
   ]
  },
  {
   "cell_type": "code",
   "execution_count": 32,
   "id": "9be90c77",
   "metadata": {},
   "outputs": [
    {
     "name": "stdout",
     "output_type": "stream",
     "text": [
      "['Cat', 'Dog', 'Rabbit']\n",
      "['Cat', 'Rabbit']\n"
     ]
    }
   ],
   "source": [
    "my_list = [\"Cat\", \"Dog\", \"Rabbit\"]\n",
    "print(my_list)\n",
    "\n",
    "del my_list[1]\n",
    "print(my_list)"
   ]
  }
 ],
 "metadata": {
  "kernelspec": {
   "display_name": ".venv",
   "language": "python",
   "name": "python3"
  },
  "language_info": {
   "codemirror_mode": {
    "name": "ipython",
    "version": 3
   },
   "file_extension": ".py",
   "mimetype": "text/x-python",
   "name": "python",
   "nbconvert_exporter": "python",
   "pygments_lexer": "ipython3",
   "version": "3.13.7"
  }
 },
 "nbformat": 4,
 "nbformat_minor": 5
}
