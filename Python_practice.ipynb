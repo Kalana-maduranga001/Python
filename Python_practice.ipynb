{
 "cells": [
  {
   "cell_type": "code",
   "execution_count": null,
   "id": "5ae3097f",
   "metadata": {},
   "outputs": [],
   "source": [
    "my_var = 10\n",
    "\n",
    "print(my_var)\n",
    "print(type(my_var))"
   ]
  },
  {
   "cell_type": "code",
   "execution_count": null,
   "id": "c893d50d",
   "metadata": {},
   "outputs": [],
   "source": [
    "print(\"Hello, World!\")"
   ]
  },
  {
   "cell_type": "code",
   "execution_count": 11,
   "id": "36a51092",
   "metadata": {},
   "outputs": [
    {
     "name": "stdout",
     "output_type": "stream",
     "text": [
      "10.0\n",
      "<class 'float'>\n"
     ]
    }
   ],
   "source": [
    "a = 10\n",
    "b = float(a)\n",
    "print(b)\n",
    "print(type(b))"
   ]
  },
  {
   "cell_type": "code",
   "execution_count": 13,
   "id": "b41ce630",
   "metadata": {},
   "outputs": [
    {
     "name": "stdout",
     "output_type": "stream",
     "text": [
      "7\n"
     ]
    }
   ],
   "source": [
    "c = 7.3\n",
    "b = int (c)\n",
    "print(b)"
   ]
  },
  {
   "cell_type": "code",
   "execution_count": 22,
   "id": "63b88efd",
   "metadata": {},
   "outputs": [
    {
     "name": "stdout",
     "output_type": "stream",
     "text": [
      "[1, 2, 3, 4, 5]\n",
      "[3] 4\n",
      "<class 'list'>\n"
     ]
    }
   ],
   "source": [
    "my_list = [1, 2, 3, 4, 5]\n",
    "print(my_list)\n",
    "print(my_list[2 : 3] , my_list[3])\n",
    "print(type(my_list))"
   ]
  },
  {
   "cell_type": "code",
   "execution_count": 16,
   "id": "41dbcaa1",
   "metadata": {},
   "outputs": [
    {
     "name": "stdout",
     "output_type": "stream",
     "text": [
      "140713693967560\n",
      "140713693967560\n"
     ]
    }
   ],
   "source": [
    "x = 10\n",
    "print(id(x))\n",
    "\n",
    "y = 10 \n",
    "print(id(y))"
   ]
  },
  {
   "cell_type": "code",
   "execution_count": 17,
   "id": "57c7f6b3",
   "metadata": {},
   "outputs": [
    {
     "name": "stdout",
     "output_type": "stream",
     "text": [
      "[1, 2, 3, 4, 5]\n",
      "2003475616512\n"
     ]
    }
   ],
   "source": [
    "my_list = [1, 2, 3, 4, 5]\n",
    "print(my_list)\n",
    "print(id(my_list))"
   ]
  },
  {
   "cell_type": "code",
   "execution_count": 18,
   "id": "ba8cf2c7",
   "metadata": {},
   "outputs": [
    {
     "name": "stdout",
     "output_type": "stream",
     "text": [
      "[1, 'hello world', 3.5, True]\n",
      "<class 'list'>\n"
     ]
    }
   ],
   "source": [
    "my_list = [1 , \"hello world\", 3.5 , True]\n",
    "print(my_list)\n",
    "print(type(my_list))"
   ]
  },
  {
   "cell_type": "code",
   "execution_count": null,
   "id": "49f972d6",
   "metadata": {},
   "outputs": [],
   "source": [
    "my_num = 4.958e9\n",
    "print(my_num)\n",
    "print(type(my_num))"
   ]
  },
  {
   "cell_type": "code",
   "execution_count": null,
   "id": "54ee477f",
   "metadata": {},
   "outputs": [],
   "source": [
    "my_var1 = 10\n",
    "my_var2 = 20.5\n",
    "my_var3 = \"Hello\"\n",
    "\n",
    "my_var4 = my_var1 + my_var2 + len(my_var3)\n",
    "\n",
    "print(my_var4)"
   ]
  },
  {
   "cell_type": "code",
   "execution_count": null,
   "id": "3736b3a5",
   "metadata": {},
   "outputs": [],
   "source": [
    "my_var = 10 + 3j\n",
    "print(my_var)\n",
    "print(type(my_var))"
   ]
  },
  {
   "cell_type": "code",
   "execution_count": 23,
   "id": "949f4efd",
   "metadata": {},
   "outputs": [
    {
     "name": "stdout",
     "output_type": "stream",
     "text": [
      "[3, 4, 5]\n",
      "[3, 4, 5]\n",
      "[1, 2, 3, 4, 5]\n"
     ]
    }
   ],
   "source": [
    "my_list = [1, 2, 3, 4, 5]\n",
    "print(my_list[2:5])\n",
    "print(my_list[2:])\n",
    "print(my_list[:5])"
   ]
  },
  {
   "cell_type": "code",
   "execution_count": 24,
   "id": "9e931751",
   "metadata": {},
   "outputs": [
    {
     "name": "stdout",
     "output_type": "stream",
     "text": [
      "9\n"
     ]
    }
   ],
   "source": [
    "my_list = [10, 8, 9, 15, 18, 26]\n",
    "print(my_list[-4])"
   ]
  },
  {
   "cell_type": "code",
   "execution_count": 25,
   "id": "ad679c88",
   "metadata": {},
   "outputs": [
    {
     "name": "stdout",
     "output_type": "stream",
     "text": [
      "[10, 8, 9, 15, 18, 26]\n",
      "[10, 8, 90, 60, 80, 26]\n"
     ]
    }
   ],
   "source": [
    "my_list = [10, 8, 9, 15, 18, 26]\n",
    "print(my_list)\n",
    "\n",
    "my_list[2:5] = [90, 60, 80]\n",
    "print(my_list)\n"
   ]
  },
  {
   "cell_type": "code",
   "execution_count": 26,
   "id": "07143b33",
   "metadata": {},
   "outputs": [
    {
     "name": "stdout",
     "output_type": "stream",
     "text": [
      "[10, 8, 9, 15, 18, 26]\n",
      "[10, 8, 65, 9, 15, 18, 26]\n"
     ]
    }
   ],
   "source": [
    "my_list = [10, 8, 9, 15, 18, 26]\n",
    "print(my_list)\n",
    "\n",
    "my_list.insert(2, 65)\n",
    "print(my_list)"
   ]
  },
  {
   "cell_type": "code",
   "execution_count": 27,
   "id": "1e02bc7e",
   "metadata": {},
   "outputs": [
    {
     "name": "stdout",
     "output_type": "stream",
     "text": [
      "[10, 8, 9, 15, 18, 26]\n",
      "[10, 8, 9, 15, 18, 26, 44]\n"
     ]
    }
   ],
   "source": [
    "my_list = [10, 8, 9, 15, 18, 26]\n",
    "print(my_list)\n",
    "\n",
    "my_list.append(44)\n",
    "print(my_list)"
   ]
  },
  {
   "cell_type": "code",
   "execution_count": 28,
   "id": "f6928aa7",
   "metadata": {},
   "outputs": [
    {
     "name": "stdout",
     "output_type": "stream",
     "text": [
      "['Cat', 'Dog', 'Rabbit']\n",
      "['Cat', 'Rabbit']\n"
     ]
    }
   ],
   "source": [
    "my_list = [\"Cat\", \"Dog\", \"Rabbit\"]\n",
    "print(my_list)\n",
    "\n",
    "my_list.remove(\"Dog\")\n",
    "print(my_list)"
   ]
  },
  {
   "cell_type": "code",
   "execution_count": 30,
   "id": "0e69f334",
   "metadata": {},
   "outputs": [
    {
     "name": "stdout",
     "output_type": "stream",
     "text": [
      "['Cat', 'Dog', 'Rabbit', 'Dog']\n",
      "['Cat', 'Rabbit', 'Dog']\n"
     ]
    }
   ],
   "source": [
    "my_list = [\"Cat\", \"Dog\", \"Rabbit\", \"Dog\"]\n",
    "print(my_list)\n",
    "\n",
    "my_list.remove(\"Dog\")\n",
    "print(my_list)"
   ]
  },
  {
   "cell_type": "code",
   "execution_count": 31,
   "id": "82a638b1",
   "metadata": {},
   "outputs": [
    {
     "name": "stdout",
     "output_type": "stream",
     "text": [
      "Dog\n",
      "['Cat', 'Rabbit']\n"
     ]
    }
   ],
   "source": [
    "my_list = [\"Cat\", \"Dog\", \"Rabbit\"]\n",
    "my_var = my_list.pop(1)\n",
    "\n",
    "print(my_var)\n",
    "print(my_list)"
   ]
  },
  {
   "cell_type": "code",
   "execution_count": 32,
   "id": "9be90c77",
   "metadata": {},
   "outputs": [
    {
     "name": "stdout",
     "output_type": "stream",
     "text": [
      "['Cat', 'Dog', 'Rabbit']\n",
      "['Cat', 'Rabbit']\n"
     ]
    }
   ],
   "source": [
    "my_list = [\"Cat\", \"Dog\", \"Rabbit\"]\n",
    "print(my_list)\n",
    "\n",
    "del my_list[1]\n",
    "print(my_list)"
   ]
  },
  {
   "cell_type": "code",
   "execution_count": 33,
   "id": "ac8efc19",
   "metadata": {},
   "outputs": [
    {
     "name": "stdout",
     "output_type": "stream",
     "text": [
      "['Cat', 'Dog', 'Rabbit']\n"
     ]
    },
    {
     "ename": "NameError",
     "evalue": "name 'my_list' is not defined",
     "output_type": "error",
     "traceback": [
      "\u001b[31m---------------------------------------------------------------------------\u001b[39m",
      "\u001b[31mNameError\u001b[39m                                 Traceback (most recent call last)",
      "\u001b[36mCell\u001b[39m\u001b[36m \u001b[39m\u001b[32mIn[33]\u001b[39m\u001b[32m, line 5\u001b[39m\n\u001b[32m      2\u001b[39m \u001b[38;5;28mprint\u001b[39m(my_list)\n\u001b[32m      4\u001b[39m \u001b[38;5;28;01mdel\u001b[39;00m my_list\n\u001b[32m----> \u001b[39m\u001b[32m5\u001b[39m \u001b[38;5;28mprint\u001b[39m(\u001b[43mmy_list\u001b[49m)\n",
      "\u001b[31mNameError\u001b[39m: name 'my_list' is not defined"
     ]
    }
   ],
   "source": [
    "my_list = [\"Cat\", \"Dog\", \"Rabbit\"]\n",
    "print(my_list)\n",
    "\n",
    "del my_list\n",
    "print(my_list)"
   ]
  },
  {
   "cell_type": "code",
   "execution_count": 34,
   "id": "25b2317a",
   "metadata": {},
   "outputs": [
    {
     "name": "stdout",
     "output_type": "stream",
     "text": [
      "['Cat', 'Dog', 'Rabbit']\n",
      "[]\n"
     ]
    }
   ],
   "source": [
    "my_list = [\"Cat\", \"Dog\", \"Rabbit\"]\n",
    "print(my_list)\n",
    "\n",
    "my_list.clear()\n",
    "print(my_list)"
   ]
  },
  {
   "cell_type": "code",
   "execution_count": 35,
   "id": "b12e8a34",
   "metadata": {},
   "outputs": [
    {
     "name": "stdout",
     "output_type": "stream",
     "text": [
      "['Cat', 'Dog', 'Rabbit', 'Horse', 'Elephant']\n",
      "['Cat', 'Dog', 'Elephant', 'Horse', 'Rabbit']\n"
     ]
    }
   ],
   "source": [
    "my_list = [\"Cat\", \"Dog\", \"Rabbit\", \"Horse\", \"Elephant\"]\n",
    "print(my_list)\n",
    "\n",
    "my_list.sort()\n",
    "print(my_list)"
   ]
  },
  {
   "cell_type": "code",
   "execution_count": 37,
   "id": "c9276b91",
   "metadata": {},
   "outputs": [
    {
     "name": "stdout",
     "output_type": "stream",
     "text": [
      "['apple', '32', 'rat', 'Grapes', 'rabbit']\n",
      "['32', 'Grapes', 'apple', 'rabbit', 'rat']\n"
     ]
    }
   ],
   "source": [
    "my_list = [\"apple\", \"32\", \"rat\", \"Grapes\", \"rabbit\"]\n",
    "print(my_list)\n",
    "\n",
    "my_list.sort()\n",
    "print(my_list)"
   ]
  },
  {
   "cell_type": "code",
   "execution_count": 38,
   "id": "98c9d6f7",
   "metadata": {},
   "outputs": [
    {
     "name": "stdout",
     "output_type": "stream",
     "text": [
      "['apple', '32', 'rat', 'Grapes', 'rabbit']\n",
      "['rat', 'rabbit', 'apple', 'Grapes', '32']\n"
     ]
    }
   ],
   "source": [
    "my_list = [\"apple\", \"32\", \"rat\", \"Grapes\", \"rabbit\"]\n",
    "print(my_list)\n",
    "\n",
    "my_list.sort(reverse=True)\n",
    "print(my_list)"
   ]
  },
  {
   "cell_type": "code",
   "execution_count": 39,
   "id": "cd305d3f",
   "metadata": {},
   "outputs": [
    {
     "name": "stdout",
     "output_type": "stream",
     "text": [
      "['Dog', 'Cat', 'Elephant', 'Rabbit', 'Horse']\n",
      "['Horse', 'Rabbit', 'Elephant', 'Cat', 'Dog']\n"
     ]
    }
   ],
   "source": [
    "my_list = [\"Dog\", \"Cat\", \"Elephant\", \"Rabbit\", \"Horse\"]\n",
    "print(my_list)\n",
    "\n",
    "my_list.reverse()\n",
    "print(my_list)"
   ]
  },
  {
   "cell_type": "code",
   "execution_count": null,
   "id": "3a1294d5",
   "metadata": {},
   "outputs": [
    {
     "name": "stdout",
     "output_type": "stream",
     "text": [
      "['Dog', 'Cat', 'Elephant', 'Rabbit', 'Horse']\n",
      "['Dog', 'Cat', 'Elephant', 'Rabbit', 'Horse']\n"
     ]
    }
   ],
   "source": [
    "my_list = [\"Dog\", \"Cat\", \"Elephant\", \"Rabbit\", \"Horse\"]\n",
    "print(my_list)\n",
    "\n",
    "my_list1 = my_list.copy()\n",
    "print(my_list1)"
   ]
  },
  {
   "cell_type": "code",
   "execution_count": 42,
   "id": "71f5d1b1",
   "metadata": {},
   "outputs": [
    {
     "name": "stdout",
     "output_type": "stream",
     "text": [
      "[10, 20, 5, 8, 9, 13, 15]\n"
     ]
    }
   ],
   "source": [
    "my_list_1 = [10, 20, 5, 8]\n",
    "my_list_2 = [9, 13, 15]\n",
    "\n",
    "my_list_3 = my_list_1 + my_list_2\n",
    "print(my_list_3)"
   ]
  },
  {
   "cell_type": "code",
   "execution_count": 43,
   "id": "5debc646",
   "metadata": {},
   "outputs": [
    {
     "name": "stdout",
     "output_type": "stream",
     "text": [
      "[10, 20, 5, 8, 9, 13, 15]\n"
     ]
    }
   ],
   "source": [
    "my_list_1 = [10, 20, 5, 8]\n",
    "my_list_2 = [9, 13, 15]\n",
    "\n",
    "my_list_1.extend(my_list_2)\n",
    "print(my_list_1)"
   ]
  },
  {
   "cell_type": "code",
   "execution_count": 5,
   "id": "65b81ff0",
   "metadata": {},
   "outputs": [
    {
     "name": "stdout",
     "output_type": "stream",
     "text": [
      "['Cricket', 'Tennis', 'Soccer', 'Basketball'] <class 'list'>\n",
      "('Cricket', 'cricket', 'Soccer', 'Basketball') <class 'tuple'>\n"
     ]
    }
   ],
   "source": [
    "sports = {\"Soccer\", \"Basketball\", \"Tennis\", \"Cricket\"}\n",
    "\n",
    "x = list(sports)\n",
    "print(x , type(x))\n",
    "x[1] = \"cricket\"\n",
    "sports = tuple(x)\n",
    "print(sports , type(sports))\n"
   ]
  },
  {
   "cell_type": "code",
   "execution_count": 17,
   "id": "14ee2d3a",
   "metadata": {},
   "outputs": [
    {
     "name": "stdout",
     "output_type": "stream",
     "text": [
      "{'Cricket', 'Tennis', 'batminton', 'Basketball', 'Soccer'}\n",
      "{'Cricket', 'Tennis', 'batminton', 'Basketball', 'Soccer', 'volleyball', 'hockey'}\n",
      "{'Cricket', 'Tennis', 'batminton', 'Basketball', 'volleyball', 'hockey'}\n"
     ]
    }
   ],
   "source": [
    "sports = {\"Soccer\", \"Basketball\", \"Tennis\", \"Cricket\"} \n",
    "sports.add(\"batminton\")\n",
    "print(sports)\n",
    "sports.update([\"hockey\" , \"volleyball\"])\n",
    "print(sports)\n",
    "sports.remove(\"Soccer\")\n",
    "print(sports)"
   ]
  },
  {
   "cell_type": "code",
   "execution_count": 4,
   "id": "df2d0773",
   "metadata": {},
   "outputs": [
    {
     "name": "stdout",
     "output_type": "stream",
     "text": [
      "{'Cricket', 'Tennis', 'Soccer', 'Basketball'}\n",
      "<class 'set'>\n"
     ]
    }
   ],
   "source": [
    "sports = {\"Soccer\", \"Basketball\", \"Tennis\", \"Cricket\"}\n",
    "print(sports)\n",
    "print(type(sports))"
   ]
  },
  {
   "cell_type": "code",
   "execution_count": 18,
   "id": "18358835",
   "metadata": {},
   "outputs": [
    {
     "name": "stdout",
     "output_type": "stream",
     "text": [
      "3\n",
      "7\n",
      "11\n",
      "15\n",
      "19\n",
      "23\n",
      "range(3, 24, 4)\n",
      "<class 'range'>\n"
     ]
    }
   ],
   "source": [
    "range_1 = range(3,24,4)\n",
    "for i in range_1:\n",
    "    print(i)\n",
    "    \n",
    "print(range_1)\n",
    "print(type(range_1))"
   ]
  },
  {
   "cell_type": "code",
   "execution_count": 31,
   "id": "b860365d",
   "metadata": {},
   "outputs": [
    {
     "name": "stdout",
     "output_type": "stream",
     "text": [
      "{'name': 'Dick', 'price': 5000, 'category': 'Fiction', 'weight': '300kg', 'status': True} <class 'dict'>\n",
      "Dick Fiction\n"
     ]
    }
   ],
   "source": [
    "this_dick ={\n",
    "    \"name\": \"Dick\",\n",
    "    \"price\":5000,\n",
    "    \"category\": \"Fiction\",\n",
    "    \"weight\":\"300kg\",\n",
    "    \"status\":True\n",
    "}\n",
    "\n",
    "print(this_dick, type(this_dick))\n",
    "print(this_dick[\"name\"] , this_dick[\"category\"])\n",
    "\n"
   ]
  },
  {
   "cell_type": "code",
   "execution_count": 23,
   "id": "143075dd",
   "metadata": {},
   "outputs": [
    {
     "name": "stdout",
     "output_type": "stream",
     "text": [
      "b\n",
      "True\n"
     ]
    }
   ],
   "source": [
    "nested_tuple = ((1,2,3),(\"a\",\"b\",\"c\"),(True , False))\n",
    "print(nested_tuple[1][1])\n",
    "print(nested_tuple[2][0])"
   ]
  },
  {
   "cell_type": "code",
   "execution_count": 34,
   "id": "589dd1c6",
   "metadata": {},
   "outputs": [
    {
     "name": "stdout",
     "output_type": "stream",
     "text": [
      "{'name': 'Dick', 'price': 5000, 'category': 'Fiction', 'weight': '2kg', 'status': True}\n"
     ]
    }
   ],
   "source": [
    "this_dick ={\n",
    "    \"name\": \"Dick\",\n",
    "    \"price\":5000,\n",
    "    \"category\": \"Fiction\",\n",
    "    \"weight\":\"300kg\",\n",
    "    \"status\":True\n",
    "}\n",
    "\n",
    "this_dick[\"weight\"] = \"2kg\"\n",
    "print(this_dick)"
   ]
  },
  {
   "cell_type": "code",
   "execution_count": 45,
   "id": "660182e4",
   "metadata": {},
   "outputs": [
    {
     "name": "stdout",
     "output_type": "stream",
     "text": [
      "{'name': 'Sugar', 'weight': '2kg', 'price': 130.35, 'expire-date': '2025-12-31'}\n",
      "{'weight': '2kg', 'price': 130.35, 'expire-date': '2025-12-31'}\n",
      "{'price': 130.35, 'expire-date': '2025-12-31'}\n",
      "{}\n"
     ]
    }
   ],
   "source": [
    "this_dict = {\n",
    "    \"name\":\"Sugar\",\n",
    "    \"weight\" : \"1kg\",\n",
    "    \"price\":130.35\n",
    "}\n",
    "\n",
    "# this_dict[\"weight\"] = \"2kg\"\n",
    "# print(this_dict)\n",
    "\n",
    "this_dict.update({\"expire-date\": \"2025-12-31\" , \"weight\": \"2kg\"})\n",
    "print(this_dict)\n",
    "\n",
    "this_dict.pop(\"name\")\n",
    "print(this_dict)\n",
    "\n",
    "del this_dict[\"weight\"]\n",
    "print(this_dict)\n",
    "\n",
    "this_dict.clear()\n",
    "print(this_dict)"
   ]
  }
 ],
 "metadata": {
  "kernelspec": {
   "display_name": ".venv",
   "language": "python",
   "name": "python3"
  },
  "language_info": {
   "codemirror_mode": {
    "name": "ipython",
    "version": 3
   },
   "file_extension": ".py",
   "mimetype": "text/x-python",
   "name": "python",
   "nbconvert_exporter": "python",
   "pygments_lexer": "ipython3",
   "version": "3.13.7"
  }
 },
 "nbformat": 4,
 "nbformat_minor": 5
}
